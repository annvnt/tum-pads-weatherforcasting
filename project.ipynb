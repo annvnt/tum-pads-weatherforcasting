{
 "cells": [
  {
   "cell_type": "markdown",
   "id": "a6745050",
   "metadata": {},
   "source": [
    "Key Columns (Weather and Environmental Data): \n",
    "\n",
    "- temp, feels_like, temp_min, temp_max: Temperature-related data in °C.\n",
    "- pressure, humidity: Atmospheric pressure (hPa) and humidity (%).\n",
    "- wind_speed, wind_deg, wind_gust: Wind characteristics.\n",
    "- rain_1h, rain_3h, snow_1h, snow_3h: Precipitation data (mm).\n",
    "- clouds_all: Cloud coverage in percentage.\n",
    "- weather_main, weather_description, weather_icon: Weather conditions.\n",
    "- dt, timezone: → use dt_iso instead\n",
    "- dt_iso: ISO formatted datetime with timezone.\n",
    "Observation: \n",
    "- city_name, lat, lon, sea_level, grnd_level can be dropped since same or blank\n",
    "- temp, feels_like, temp_max, temp_min, and pressure values  : -998, -1000 ... drop/ replace with NaN "
   ]
  },
  {
   "cell_type": "markdown",
   "id": "26776b32",
   "metadata": {},
   "source": []
  },
  {
   "cell_type": "code",
   "execution_count": 2,
   "id": "2fc05eb5",
   "metadata": {},
   "outputs": [
    {
     "name": "stderr",
     "output_type": "stream",
     "text": [
      "d:\\Master\\Python and advacned data science\\.venv\\Lib\\site-packages\\tqdm\\auto.py:21: TqdmWarning: IProgress not found. Please update jupyter and ipywidgets. See https://ipywidgets.readthedocs.io/en/stable/user_install.html\n",
      "  from .autonotebook import tqdm as notebook_tqdm\n"
     ]
    },
    {
     "name": "stdout",
     "output_type": "stream",
     "text": [
      "<class 'datasets.arrow_dataset.Dataset'>\n",
      "           dt                         dt_iso  timezone  \\\n",
      "0  1199145600  2008-01-01 00:00:00 +0000 UTC      7200   \n",
      "1  1199149200  2008-01-01 01:00:00 +0000 UTC      7200   \n",
      "2  1199152800  2008-01-01 02:00:00 +0000 UTC      7200   \n",
      "3  1199156400  2008-01-01 03:00:00 +0000 UTC      7200   \n",
      "4  1199160000  2008-01-01 04:00:00 +0000 UTC      7200   \n",
      "\n",
      "                                    city_name        lat        lon  temp  \\\n",
      "0  Universitatea Babeș-Bolyai din Cluj-Napoca  46.767141  23.592139 -9.46   \n",
      "1  Universitatea Babeș-Bolyai din Cluj-Napoca  46.767141  23.592139 -9.39   \n",
      "2  Universitatea Babeș-Bolyai din Cluj-Napoca  46.767141  23.592139 -9.39   \n",
      "3  Universitatea Babeș-Bolyai din Cluj-Napoca  46.767141  23.592139 -9.55   \n",
      "4  Universitatea Babeș-Bolyai din Cluj-Napoca  46.767141  23.592139 -9.55   \n",
      "\n",
      "   visibility  dew_point  feels_like  ...  wind_gust  rain_1h  rain_3h  \\\n",
      "0      4000.0     -10.40       -9.46  ...        NaN      NaN      NaN   \n",
      "1      4000.0     -10.33       -9.39  ...        NaN      NaN      NaN   \n",
      "2      4000.0     -10.33       -9.39  ...        NaN      NaN      NaN   \n",
      "3      4000.0     -10.49       -9.55  ...        NaN      NaN      NaN   \n",
      "4      4000.0     -10.37       -9.55  ...        NaN      NaN      NaN   \n",
      "\n",
      "   snow_1h  snow_3h  clouds_all  weather_id  weather_main  \\\n",
      "0      NaN      NaN         100         600          Snow   \n",
      "1      NaN      NaN         100         600          Snow   \n",
      "2      NaN      NaN         100         600          Snow   \n",
      "3      NaN      0.1         100         804        Clouds   \n",
      "4      NaN      NaN         100         701          Mist   \n",
      "\n",
      "   weather_description  weather_icon  \n",
      "0           light snow           13n  \n",
      "1           light snow           13n  \n",
      "2           light snow           13n  \n",
      "3      overcast clouds           04n  \n",
      "4                 mist           50n  \n",
      "\n",
      "[5 rows x 28 columns]\n",
      "All columns: ['dt_iso', 'temp', 'visibility', 'dew_point', 'feels_like', 'temp_min', 'temp_max', 'pressure', 'humidity', 'wind_speed', 'wind_deg', 'wind_gust', 'rain_1h', 'rain_3h', 'snow_1h', 'snow_3h', 'clouds_all', 'weather_id', 'weather_main', 'weather_description', 'weather_icon']\n"
     ]
    }
   ],
   "source": [
    "from datasets import load_dataset\n",
    "import pandas as pd\n",
    "import numpy as np\n",
    "import matplotlib.pyplot as plt\n",
    "\n",
    "# Load the dataset\n",
    "ds = load_dataset(\"LaurentiuStancioiu/Cluj-Napoca-Weather-OpenWeather-data\")\n",
    "\n",
    "# Confirm it's a Hugging Face Dataset object\n",
    "print(type(ds['train']))  # Should show: <class 'datasets.arrow_dataset.Dataset'>\n",
    "\n",
    "# Convert to a pandas DataFrame and display first few rows\n",
    "df = ds['train'].to_pandas()\n",
    "print(df.head())\n",
    "\n",
    "# Drop unnecessary columns\n",
    "columns_to_drop = [\n",
    "    'dt', 'timezone', 'city_name', 'lat', 'lon',\n",
    "    'sea_level', 'grnd_level'\n",
    "]\n",
    "df.drop(columns=columns_to_drop, inplace=True)\n",
    "\n",
    "# ✅ FIXED: Add comma in print statement\n",
    "print(\"All columns:\", df.columns.tolist())\n",
    "\n",
    "# Define realistic value ranges for filtering\n",
    "valid_ranges = {\n",
    "    'temp': (-60, 60),\n",
    "    'feels_like': (-70, 60),\n",
    "    'temp_min': (-60, 60),\n",
    "    'temp_max': (-60, 60),\n",
    "    'pressure': (870, 1085),\n",
    "}\n",
    "\n",
    "# Filter rows based on valid ranges\n",
    "mask = np.ones(len(df), dtype=bool)\n",
    "for col, (low, high) in valid_ranges.items():\n",
    "    mask &= df[col].between(low, high)\n",
    "\n",
    "df_cleaned = df[mask]\n",
    "\n",
    "\n"
   ]
  },
  {
   "cell_type": "code",
   "execution_count": null,
   "id": "045f3dba",
   "metadata": {},
   "outputs": [
    {
     "name": "stdout",
     "output_type": "stream",
     "text": [
      "               dt_iso  temp  visibility  dew_point  feels_like  temp_min  \\\n",
      "0 2008-01-01 00:00:00 -9.46      4000.0     -10.40       -9.46    -11.37   \n",
      "1 2008-01-01 01:00:00 -9.39      4000.0     -10.33       -9.39    -11.50   \n",
      "2 2008-01-01 02:00:00 -9.39      4000.0     -10.33       -9.39    -11.68   \n",
      "3 2008-01-01 03:00:00 -9.55      4000.0     -10.49       -9.55    -11.74   \n",
      "4 2008-01-01 04:00:00 -9.55      4000.0     -10.37       -9.55    -11.48   \n",
      "\n",
      "   temp_max  pressure  humidity  wind_speed  ...  clouds_all  weather_id  \\\n",
      "0     -7.64      1024        92         1.0  ...         100         600   \n",
      "1     -7.39      1024        92         1.0  ...         100         600   \n",
      "2     -7.35      1023        92         1.0  ...         100         600   \n",
      "3     -7.60      1023        92         1.0  ...         100         804   \n",
      "4     -7.85      1023        93         1.0  ...         100         701   \n",
      "\n",
      "   weather_main  weather_description  weather_icon  hour  day  month  year  \\\n",
      "0          Snow           light snow           13n     0    1      1  2008   \n",
      "1          Snow           light snow           13n     1    1      1  2008   \n",
      "2          Snow           light snow           13n     2    1      1  2008   \n",
      "3        Clouds      overcast clouds           04n     3    1      1  2008   \n",
      "4          Mist                 mist           50n     4    1      1  2008   \n",
      "\n",
      "  weekday  \n",
      "0       1  \n",
      "1       1  \n",
      "2       1  \n",
      "3       1  \n",
      "4       1  \n",
      "\n",
      "[5 rows x 26 columns]\n"
     ]
    }
   ],
   "source": [
    "# Parse datetime and extract time features\n",
    "df['dt_iso'] = pd.to_datetime(df['dt_iso'].str.replace(' +0000 UTC', '', regex=False))\n",
    "df['hour'] = df['dt_iso'].dt.hour\n",
    "df['day'] = df['dt_iso'].dt.day\n",
    "df['month'] = df['dt_iso'].dt.month\n",
    "df['year'] = df['dt_iso'].dt.year\n",
    "df['weekday'] = df['dt_iso'].dt.weekday\n",
    "\n",
    "oo\n",
    "print( df.head())"
   ]
  },
  {
   "cell_type": "markdown",
   "id": "7936bb0f",
   "metadata": {},
   "source": [
    "Blank or NaN; - \n"
   ]
  }
 ],
 "metadata": {
  "kernelspec": {
   "display_name": ".venv",
   "language": "python",
   "name": "python3"
  },
  "language_info": {
   "codemirror_mode": {
    "name": "ipython",
    "version": 3
   },
   "file_extension": ".py",
   "mimetype": "text/x-python",
   "name": "python",
   "nbconvert_exporter": "python",
   "pygments_lexer": "ipython3",
   "version": "3.13.2"
  }
 },
 "nbformat": 4,
 "nbformat_minor": 5
}
