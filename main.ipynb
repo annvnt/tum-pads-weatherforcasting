{
 "cells": [
  {
   "metadata": {},
   "cell_type": "markdown",
   "source": [
    "# Import libraries and data\n",
    "\n",
    "A weather dataset of Cluj Napoca taken from the OpenWheather History API. It was scraped from the Open Weather Map using their Weather API. The data collected was from January 1st 2008 until May 2023 at an hourly rate.\n",
    "\n",
    "Reference: https://huggingface.co/datasets/LaurentiuStancioiu/Cluj-Napoca-Weather-OpenWeather-data/blob/main/Long%20Term%20Time%20Series%20Forecasting%20for%20Cluj-Napoca%20Weather%20Prediction.pdf\n"
   ],
   "id": "44d21deb7567d65d"
  },
  {
   "metadata": {},
   "cell_type": "code",
   "outputs": [],
   "execution_count": null,
   "source": [
    "from datasets import load_dataset\n",
    "import pandas as pd\n",
    "import matplotlib.pyplot as plt\n",
    "import seaborn as sns\n",
    "\n",
    "# import pygwalker"
   ],
   "id": "a7f3903e02c78f98"
  },
  {
   "metadata": {},
   "cell_type": "code",
   "outputs": [],
   "execution_count": null,
   "source": [
    "ds = load_dataset(\"LaurentiuStancioiu/Cluj-Napoca-Weather-OpenWeather-data\")\n",
    "df = ds[\"train\"].to_pandas()"
   ],
   "id": "7e4e92d9591978aa"
  },
  {
   "metadata": {},
   "cell_type": "markdown",
   "source": "View dataset sample records:",
   "id": "4c5d5c21343a090e"
  },
  {
   "metadata": {},
   "cell_type": "code",
   "outputs": [],
   "execution_count": null,
   "source": "df.sample(20)",
   "id": "b19521a3f86076bf"
  },
  {
   "metadata": {},
   "cell_type": "markdown",
   "source": "# Attribute Understanding",
   "id": "5595187270179dd4"
  },
  {
   "metadata": {},
   "cell_type": "markdown",
   "source": "View available attributes.",
   "id": "4f8bf8a6207ea331"
  },
  {
   "metadata": {},
   "cell_type": "code",
   "outputs": [],
   "execution_count": null,
   "source": "df.info()",
   "id": "133a719723ea2754"
  },
  {
   "metadata": {},
   "cell_type": "markdown",
   "source": [
    "Add description for each attribute.\n",
    "\n",
    "!warning PLEASE DOUBLE CHECK."
   ],
   "id": "50e2ce18cda99d3f"
  },
  {
   "metadata": {
    "ExecuteTime": {
     "end_time": "2025-06-16T13:41:31.011979Z",
     "start_time": "2025-06-16T13:41:30.996302Z"
    }
   },
   "cell_type": "code",
   "source": [
    "attribute_dict = {}\n",
    "attribute_dict['dt'] = 'Time of data calculation, unix, UTC'\n",
    "attribute_dict['dt_iso'] = 'Date and time in UTC format'\n",
    "attribute_dict['timezone'] = 'Shift in seconds from UTC'\n",
    "attribute_dict['city_name'] = 'City name'\n",
    "attribute_dict['lat'] = 'Geographical coordinates of the location (latitude)'\n",
    "attribute_dict['lon'] = 'Geographical coordinates of the location (longitude)'\n",
    "attribute_dict['temp'] = 'Temperature'\n",
    "attribute_dict['visibility'] = 'Average visibility, metres. The maximum distance at which an object or light can be clearly seen by a human observer under current atmospheric conditions. Lower visibility values may trigger warnings for drivers or pilots.'\n",
    "attribute_dict['dew_point'] = 'Atmospheric temperature (varying according to pressure and humidity) below which water droplets begin to condense and dew can form'\n",
    "attribute_dict['feels_like'] = 'This temperature parameter accounts for the human perception of weather'\n",
    "attribute_dict['temp_min'] = 'Minimum temperature at the moment (optional)'\n",
    "attribute_dict['temp_max'] = 'Maximum temperature at the moment (optional)'\n",
    "attribute_dict['pressure'] = 'des'\n",
    "attribute_dict['sea_level'] = 'des'\n",
    "attribute_dict['grnd_level'] = 'des'\n",
    "attribute_dict['humidity'] = 'Humidity, %'\n",
    "attribute_dict['wind_speed'] = 'des'\n",
    "attribute_dict['wind_deg'] = 'Wind direction, degrees (meteorological)'\n",
    "attribute_dict['wind_gust'] = 'des'\n",
    "attribute_dict['rain_1h'] = 'Rain volume for the last hour, mm'\n",
    "attribute_dict['rain_3h'] = 'Rain volume for the last 3 hours, mm'\n",
    "attribute_dict['snow_1h'] = 'Snow volume for the last hour, mm (in liquid state)'\n",
    "attribute_dict['snow_3h'] = 'Snow volume for the last 3 hours, mm (in liquid state)'\n",
    "attribute_dict['clouds_all'] = 'Cloudiness, %'\n",
    "attribute_dict['weather_id'] = 'Weather condition id'\n",
    "attribute_dict['weather_main'] = 'Group of weather parameters (Rain, Snow, Extreme etc.)'\n",
    "attribute_dict['weather_description'] = 'Weather condition within the group'\n",
    "attribute_dict['weather_icon'] = 'Weather icon id'\n",
    "\n",
    "attribute_dict"
   ],
   "id": "e484959751653f79",
   "outputs": [
    {
     "data": {
      "text/plain": [
       "{'dt': 'Time of data calculation, unix, UTC',\n",
       " 'dt_iso': 'Date and time in UTC format',\n",
       " 'timezone': 'Shift in seconds from UTC',\n",
       " 'city_name': 'City name',\n",
       " 'lat': 'Geographical coordinates of the location (latitude)',\n",
       " 'lon': 'Geographical coordinates of the location (longitude)',\n",
       " 'temp': 'Temperature',\n",
       " 'visibility': 'Average visibility, metres. The maximum distance at which an object or light can be clearly seen by a human observer under current atmospheric conditions. Lower visibility values may trigger warnings for drivers or pilots.',\n",
       " 'dew_point': 'Atmospheric temperature (varying according to pressure and humidity) below which water droplets begin to condense and dew can form',\n",
       " 'feels_like': 'This temperature parameter accounts for the human perception of weather',\n",
       " 'temp_min': 'Minimum temperature at the moment (optional)',\n",
       " 'temp_max': 'Maximum temperature at the moment (optional)',\n",
       " 'pressure': 'des',\n",
       " 'sea_level': 'des',\n",
       " 'grnd_level': 'des',\n",
       " 'humidity': 'Humidity, %',\n",
       " 'wind_speed': 'des',\n",
       " 'wind_deg': 'Wind direction, degrees (meteorological)',\n",
       " 'wind_gust': 'des',\n",
       " 'rain_1h': 'Rain volume for the last hour, mm',\n",
       " 'rain_3h': 'Rain volume for the last 3 hours, mm',\n",
       " 'snow_1h': 'Snow volume for the last hour, mm (in liquid state)',\n",
       " 'snow_3h': 'Snow volume for the last 3 hours, mm (in liquid state)',\n",
       " 'clouds_all': 'Cloudiness, %',\n",
       " 'weather_id': 'Weather condition id',\n",
       " 'weather_main': 'Group of weather parameters (Rain, Snow, Extreme etc.)',\n",
       " 'weather_description': 'Weather condition within the group',\n",
       " 'weather_icon': 'Weather icon id'}"
      ]
     },
     "execution_count": 51,
     "metadata": {},
     "output_type": "execute_result"
    }
   ],
   "execution_count": 51
  },
  {
   "metadata": {},
   "cell_type": "markdown",
   "source": [
    "Take the first record as an example, here's a data explanation [AI-generated]:\n",
    "\n",
    "\"\n",
    "This record describes **cold, humid, and snowy winter weather** during the **early hours of January 1, 2008**, in **Cluj-Napoca, Romania**.\n",
    "\n",
    "* The **temperature** was around **-9.5°C**, with the **\"feels like\"** temperature matching it, suggesting calm wind conditions with minimal wind chill.\n",
    "* The **humidity** was high at **92%**, and the **dew point** was close to the actual temperature, indicating **saturation**—ideal for **snow or frost**.\n",
    "* The **weather condition** was classified as **\"light snow\"**, supported by 100% **cloud cover** and reduced **visibility** (4 km). This suggests snowfall was occurring but **not heavy**.\n",
    "* **No recent measurable precipitation** (rain or snow) was recorded in the last 1 or 3 hours, which could imply **light, intermittent snowflakes** without accumulation.\n",
    "* **Wind was light** (1.0 m/s) from the **east-southeast (110°)**, with **no gusts** reported, contributing to the stable \"feels like\" temperature.\n",
    "* **Pressure** was **high (1024 hPa)**, indicating a likely presence of a **cold, stable air mass**, often associated with winter conditions.\n",
    "* **No data** was available for **sea level and ground-level pressure**, but this is not uncommon for historical or location-specific datasets.\n",
    "\n",
    "**Summary:**\n",
    "\n",
    "This was a **quiet, wintry night** with **light snow**, **cold temperatures**, **high humidity**, **calm winds**, and **no significant precipitation** accumulation—typical of **a stable, frosty weather pattern** in a continental climate zone.\n",
    "\""
   ],
   "id": "99ed99ea1d46312f"
  },
  {
   "metadata": {},
   "cell_type": "code",
   "outputs": [],
   "execution_count": null,
   "source": "print(df.iloc[0])",
   "id": "8fde0621eb701799"
  },
  {
   "metadata": {},
   "cell_type": "markdown",
   "source": "# Data cleaning",
   "id": "849178bec4ca9f9f"
  },
  {
   "metadata": {},
   "cell_type": "markdown",
   "source": "### Date",
   "id": "f52015263c2d31f7"
  },
  {
   "metadata": {},
   "cell_type": "markdown",
   "source": "!warning Not sure what to do with this.",
   "id": "337d2608455d0c0"
  },
  {
   "metadata": {
    "ExecuteTime": {
     "end_time": "2025-06-16T13:37:01.715281Z",
     "start_time": "2025-06-16T13:36:59.622946Z"
    }
   },
   "cell_type": "code",
   "source": "sns.histplot(df['dt'], kde=True)",
   "id": "bcee790db1c0bbff",
   "outputs": [
    {
     "data": {
      "text/plain": [
       "<Axes: xlabel='dt', ylabel='Count'>"
      ]
     },
     "execution_count": 50,
     "metadata": {},
     "output_type": "execute_result"
    },
    {
     "data": {
      "text/plain": [
       "<Figure size 640x480 with 1 Axes>"
      ],
      "image/png": "[encoded data removed]"
     },
     "metadata": {},
     "output_type": "display_data"
    }
   ],
   "execution_count": 50
  },
  {
   "metadata": {},
   "cell_type": "markdown",
   "source": "### City info",
   "id": "19268acc98095a68"
  },
  {
   "metadata": {},
   "cell_type": "markdown",
   "source": "Since the dataset is specifically collected for Cluj-Napoca, some attribute seems redundant.",
   "id": "ed09bcb286250a35"
  },
  {
   "metadata": {},
   "cell_type": "code",
   "outputs": [],
   "execution_count": null,
   "source": [
    "for i in df.columns[2:6]:\n",
    "    print(f'Unique values of {i} are {pd.unique(df[i])}')\n"
   ],
   "id": "ef22edd627ead8d"
  },
  {
   "metadata": {},
   "cell_type": "markdown",
   "source": "Except for the timezones, since Cluj-Napoca shifts time in Summer (Daylight saving time), we will remove the others.",
   "id": "4b02b2d722cc372d"
  },
  {
   "metadata": {},
   "cell_type": "code",
   "outputs": [],
   "execution_count": null,
   "source": [
    "cleaned_df = df.drop(df.columns[2:6], axis=1).copy()\n",
    "cleaned_df"
   ],
   "id": "4db592bac1a4dc19"
  },
  {
   "metadata": {},
   "cell_type": "markdown",
   "source": "## Temp",
   "id": "8f79f4efe72286e9"
  },
  {
   "metadata": {},
   "cell_type": "markdown",
   "source": "Noticing unusual graphs for Temperature's visualization, we may easily detect outliers as a common sense.",
   "id": "3b13aa42182ac6ac"
  },
  {
   "metadata": {},
   "cell_type": "code",
   "outputs": [],
   "execution_count": null,
   "source": [
    "sns.boxplot(df['temp'])\n",
    "plt.show()\n",
    "sns.histplot(df['temp'])"
   ],
   "id": "a532dd5d8a801647"
  },
  {
   "metadata": {},
   "cell_type": "code",
   "outputs": [],
   "execution_count": null,
   "source": "df['temp'].min(), df['temp'].max()",
   "id": "5478cb971c60cbdd"
  },
  {
   "metadata": {},
   "cell_type": "code",
   "outputs": [],
   "execution_count": null,
   "source": [
    "# physically unrealistic cutoff\n",
    "outliers = df[df['temp'] < -100]\n",
    "outliers"
   ],
   "id": "b94c35abe148f944"
  },
  {
   "metadata": {},
   "cell_type": "markdown",
   "source": "!warning Should we remove them or adjust the value?",
   "id": "95696eb948b6aac5"
  },
  {
   "metadata": {
    "ExecuteTime": {
     "end_time": "2025-06-16T13:16:09.796061Z",
     "start_time": "2025-06-16T13:16:09.780146Z"
    }
   },
   "cell_type": "code",
   "source": "cleaned_df[['temp']] # what should we do?",
   "id": "36f26cd9f97f9568",
   "outputs": [
    {
     "data": {
      "text/plain": [
       "         temp\n",
       "0       -9.46\n",
       "1       -9.39\n",
       "2       -9.39\n",
       "3       -9.55\n",
       "4       -9.55\n",
       "...       ...\n",
       "139389  12.61\n",
       "139390  10.61\n",
       "139391  10.07\n",
       "139392   9.80\n",
       "139393   8.34\n",
       "\n",
       "[139394 rows x 1 columns]"
      ],
      "text/html": [
       "<div>\n",
       "<style scoped>\n",
       "    .dataframe tbody tr th:only-of-type {\n",
       "        vertical-align: middle;\n",
       "    }\n",
       "\n",
       "    .dataframe tbody tr th {\n",
       "        vertical-align: top;\n",
       "    }\n",
       "\n",
       "    .dataframe thead th {\n",
       "        text-align: right;\n",
       "    }\n",
       "</style>\n",
       "<table border=\"1\" class=\"dataframe\">\n",
       "  <thead>\n",
       "    <tr style=\"text-align: right;\">\n",
       "      <th></th>\n",
       "      <th>temp</th>\n",
       "    </tr>\n",
       "  </thead>\n",
       "  <tbody>\n",
       "    <tr>\n",
       "      <th>0</th>\n",
       "      <td>-9.46</td>\n",
       "    </tr>\n",
       "    <tr>\n",
       "      <th>1</th>\n",
       "      <td>-9.39</td>\n",
       "    </tr>\n",
       "    <tr>\n",
       "      <th>2</th>\n",
       "      <td>-9.39</td>\n",
       "    </tr>\n",
       "    <tr>\n",
       "      <th>3</th>\n",
       "      <td>-9.55</td>\n",
       "    </tr>\n",
       "    <tr>\n",
       "      <th>4</th>\n",
       "      <td>-9.55</td>\n",
       "    </tr>\n",
       "    <tr>\n",
       "      <th>...</th>\n",
       "      <td>...</td>\n",
       "    </tr>\n",
       "    <tr>\n",
       "      <th>139389</th>\n",
       "      <td>12.61</td>\n",
       "    </tr>\n",
       "    <tr>\n",
       "      <th>139390</th>\n",
       "      <td>10.61</td>\n",
       "    </tr>\n",
       "    <tr>\n",
       "      <th>139391</th>\n",
       "      <td>10.07</td>\n",
       "    </tr>\n",
       "    <tr>\n",
       "      <th>139392</th>\n",
       "      <td>9.80</td>\n",
       "    </tr>\n",
       "    <tr>\n",
       "      <th>139393</th>\n",
       "      <td>8.34</td>\n",
       "    </tr>\n",
       "  </tbody>\n",
       "</table>\n",
       "<p>139394 rows × 1 columns</p>\n",
       "</div>"
      ]
     },
     "execution_count": 43,
     "metadata": {},
     "output_type": "execute_result"
    }
   ],
   "execution_count": 43
  },
  {
   "metadata": {},
   "cell_type": "markdown",
   "source": "## Visibility",
   "id": "df23f4c2915ca9aa"
  },
  {
   "metadata": {},
   "cell_type": "markdown",
   "source": "At first glance, the visibility data appears reasonable, ranging from a minimum of 49 meters to a maximum of 10,000 meters.  the latter typically indicating perfectly clear conditions with no significant obstructions.\n",
   "id": "7feef772b5d2b4fe"
  },
  {
   "metadata": {
    "ExecuteTime": {
     "end_time": "2025-06-16T13:14:41.461980Z",
     "start_time": "2025-06-16T13:14:41.433281Z"
    }
   },
   "cell_type": "code",
   "source": "df['visibility'].describe()",
   "id": "5c255a48e00c13ea",
   "outputs": [
    {
     "data": {
      "text/plain": [
       "count    137498.000000\n",
       "mean       8693.875169\n",
       "std        2743.282608\n",
       "min          49.000000\n",
       "25%        9999.000000\n",
       "50%       10000.000000\n",
       "75%       10000.000000\n",
       "max       10000.000000\n",
       "Name: visibility, dtype: float64"
      ]
     },
     "execution_count": 41,
     "metadata": {},
     "output_type": "execute_result"
    }
   ],
   "execution_count": 41
  },
  {
   "metadata": {
    "ExecuteTime": {
     "end_time": "2025-06-16T13:13:51.178341Z",
     "start_time": "2025-06-16T13:13:49.321640Z"
    }
   },
   "cell_type": "code",
   "source": "sns.histplot(df['visibility'], bins=30, kde=True)",
   "id": "b2c97d0d4589f629",
   "outputs": [
    {
     "data": {
      "text/plain": [
       "<Axes: xlabel='visibility', ylabel='Count'>"
      ]
     },
     "execution_count": 38,
     "metadata": {},
     "output_type": "execute_result"
    },
    {
     "data": {
      "text/plain": [
       "<Figure size 640x480 with 1 Axes>"
      ],
      "image/png": "[encoded data removed]"
     },
     "metadata": {},
     "output_type": "display_data"
    }
   ],
   "execution_count": 38
  },
  {
   "metadata": {},
   "cell_type": "markdown",
   "source": "bb## Dew pointm",
   "id": "415ed696f8a45c2e"
  },
  {
   "metadata": {},
   "cell_type": "markdown",
   "source": "## Feels likeb",
   "id": "a763eb41d77d957e"
  },
  {
   "metadata": {},
   "cell_type": "code",
   "outputs": [],
   "execution_count": null,
   "source": "##",
   "id": "1806cbe5ff76b673"
  },
  {
   "metadata": {},
   "cell_type": "markdown",
   "source": "## Others",
   "id": "ad52b8dfe7af590a"
  },
  {
   "metadata": {
    "ExecuteTime": {
     "end_time": "2025-06-16T13:15:57.404990Z",
     "start_time": "2025-06-16T13:15:57.096541Z"
    }
   },
   "cell_type": "code",
   "source": "cleaned_df.describe()",
   "id": "7723f0e3237417cd",
   "outputs": [
    {
     "data": {
      "text/plain": [
       "                 dt           temp     visibility      dew_point  \\\n",
       "count  1.393940e+05  139394.000000  137498.000000  139391.000000   \n",
       "mean   1.440551e+09       9.618191    8693.875169       5.084661   \n",
       "std    1.396620e+08      47.385004    2743.282608       7.568612   \n",
       "min    1.199146e+09   -9998.770000      49.000000     -24.390000   \n",
       "25%    1.319538e+09       2.240000    9999.000000      -0.450000   \n",
       "50%    1.440347e+09       9.700000   10000.000000       5.150000   \n",
       "75%    1.561060e+09      16.910000   10000.000000      11.350000   \n",
       "max    1.682982e+09      37.610000   10000.000000      25.190000   \n",
       "\n",
       "          feels_like       temp_min       temp_max       pressure  sea_level  \\\n",
       "count  139394.000000  139394.000000  139394.000000  139394.000000        0.0   \n",
       "mean        8.529267       8.327400      12.116846    1016.121605        NaN   \n",
       "std        47.556514      47.396329       9.727896       8.178444        NaN   \n",
       "min    -10005.770000   -9998.960000    -275.450000    -100.000000        NaN   \n",
       "25%         0.690000       0.840000       4.700000    1012.000000        NaN   \n",
       "50%         8.800000       8.450000      12.000000    1016.000000        NaN   \n",
       "75%        16.700000      15.750000      19.400000    1021.000000        NaN   \n",
       "max        37.740000      37.000000      42.700000    1044.000000        NaN   \n",
       "\n",
       "       grnd_level       humidity     wind_speed       wind_deg     wind_gust  \\\n",
       "count         0.0  139394.000000  139394.000000  139394.000000  10915.000000   \n",
       "mean          NaN      75.657396       2.390518     154.977940      5.031590   \n",
       "std           NaN      19.817223      26.828828     117.502033      3.494126   \n",
       "min           NaN       0.000000       0.000000       0.000000      0.000000   \n",
       "25%           NaN      62.000000       1.030000      60.000000      3.000000   \n",
       "50%           NaN      81.000000       2.000000     130.000000      5.000000   \n",
       "75%           NaN      93.000000       3.100000     270.000000      7.000000   \n",
       "max           NaN     100.000000    9999.000000     360.000000     24.200000   \n",
       "\n",
       "            rain_1h      rain_3h      snow_1h     snow_3h     clouds_all  \\\n",
       "count  19027.000000  1847.000000  4572.000000  821.000000  139394.000000   \n",
       "mean       0.605345     1.859643     0.361105    0.908526      38.215605   \n",
       "std        0.876458     3.033603     0.300892    1.108691      38.417129   \n",
       "min        0.100000     0.100000     0.100000    0.100000       0.000000   \n",
       "25%        0.180000     0.200000     0.160000    0.200000       0.000000   \n",
       "50%        0.330000     0.800000     0.260000    0.500000      20.000000   \n",
       "75%        0.700000     2.000000     0.450000    1.000000      75.000000   \n",
       "max       18.000000    27.000000     2.280000    9.000000     100.000000   \n",
       "\n",
       "          weather_id  \n",
       "count  139394.000000  \n",
       "mean      728.715253  \n",
       "std       121.070155  \n",
       "min       200.000000  \n",
       "25%       701.000000  \n",
       "50%       800.000000  \n",
       "75%       801.000000  \n",
       "max       804.000000  "
      ],
      "text/html": [
       "<div>\n",
       "<style scoped>\n",
       "    .dataframe tbody tr th:only-of-type {\n",
       "        vertical-align: middle;\n",
       "    }\n",
       "\n",
       "    .dataframe tbody tr th {\n",
       "        vertical-align: top;\n",
       "    }\n",
       "\n",
       "    .dataframe thead th {\n",
       "        text-align: right;\n",
       "    }\n",
       "</style>\n",
       "<table border=\"1\" class=\"dataframe\">\n",
       "  <thead>\n",
       "    <tr style=\"text-align: right;\">\n",
       "      <th></th>\n",
       "      <th>dt</th>\n",
       "      <th>temp</th>\n",
       "      <th>visibility</th>\n",
       "      <th>dew_point</th>\n",
       "      <th>feels_like</th>\n",
       "      <th>temp_min</th>\n",
       "      <th>temp_max</th>\n",
       "      <th>pressure</th>\n",
       "      <th>sea_level</th>\n",
       "      <th>grnd_level</th>\n",
       "      <th>humidity</th>\n",
       "      <th>wind_speed</th>\n",
       "      <th>wind_deg</th>\n",
       "      <th>wind_gust</th>\n",
       "      <th>rain_1h</th>\n",
       "      <th>rain_3h</th>\n",
       "      <th>snow_1h</th>\n",
       "      <th>snow_3h</th>\n",
       "      <th>clouds_all</th>\n",
       "      <th>weather_id</th>\n",
       "    </tr>\n",
       "  </thead>\n",
       "  <tbody>\n",
       "    <tr>\n",
       "      <th>count</th>\n",
       "      <td>1.393940e+05</td>\n",
       "      <td>139394.000000</td>\n",
       "      <td>137498.000000</td>\n",
       "      <td>139391.000000</td>\n",
       "      <td>139394.000000</td>\n",
       "      <td>139394.000000</td>\n",
       "      <td>139394.000000</td>\n",
       "      <td>139394.000000</td>\n",
       "      <td>0.0</td>\n",
       "      <td>0.0</td>\n",
       "      <td>139394.000000</td>\n",
       "      <td>139394.000000</td>\n",
       "      <td>139394.000000</td>\n",
       "      <td>10915.000000</td>\n",
       "      <td>19027.000000</td>\n",
       "      <td>1847.000000</td>\n",
       "      <td>4572.000000</td>\n",
       "      <td>821.000000</td>\n",
       "      <td>139394.000000</td>\n",
       "      <td>139394.000000</td>\n",
       "    </tr>\n",
       "    <tr>\n",
       "      <th>mean</th>\n",
       "      <td>1.440551e+09</td>\n",
       "      <td>9.618191</td>\n",
       "      <td>8693.875169</td>\n",
       "      <td>5.084661</td>\n",
       "      <td>8.529267</td>\n",
       "      <td>8.327400</td>\n",
       "      <td>12.116846</td>\n",
       "      <td>1016.121605</td>\n",
       "      <td>NaN</td>\n",
       "      <td>NaN</td>\n",
       "      <td>75.657396</td>\n",
       "      <td>2.390518</td>\n",
       "      <td>154.977940</td>\n",
       "      <td>5.031590</td>\n",
       "      <td>0.605345</td>\n",
       "      <td>1.859643</td>\n",
       "      <td>0.361105</td>\n",
       "      <td>0.908526</td>\n",
       "      <td>38.215605</td>\n",
       "      <td>728.715253</td>\n",
       "    </tr>\n",
       "    <tr>\n",
       "      <th>std</th>\n",
       "      <td>1.396620e+08</td>\n",
       "      <td>47.385004</td>\n",
       "      <td>2743.282608</td>\n",
       "      <td>7.568612</td>\n",
       "      <td>47.556514</td>\n",
       "      <td>47.396329</td>\n",
       "      <td>9.727896</td>\n",
       "      <td>8.178444</td>\n",
       "      <td>NaN</td>\n",
       "      <td>NaN</td>\n",
       "      <td>19.817223</td>\n",
       "      <td>26.828828</td>\n",
       "      <td>117.502033</td>\n",
       "      <td>3.494126</td>\n",
       "      <td>0.876458</td>\n",
       "      <td>3.033603</td>\n",
       "      <td>0.300892</td>\n",
       "      <td>1.108691</td>\n",
       "      <td>38.417129</td>\n",
       "      <td>121.070155</td>\n",
       "    </tr>\n",
       "    <tr>\n",
       "      <th>min</th>\n",
       "      <td>1.199146e+09</td>\n",
       "      <td>-9998.770000</td>\n",
       "      <td>49.000000</td>\n",
       "      <td>-24.390000</td>\n",
       "      <td>-10005.770000</td>\n",
       "      <td>-9998.960000</td>\n",
       "      <td>-275.450000</td>\n",
       "      <td>-100.000000</td>\n",
       "      <td>NaN</td>\n",
       "      <td>NaN</td>\n",
       "      <td>0.000000</td>\n",
       "      <td>0.000000</td>\n",
       "      <td>0.000000</td>\n",
       "      <td>0.000000</td>\n",
       "      <td>0.100000</td>\n",
       "      <td>0.100000</td>\n",
       "      <td>0.100000</td>\n",
       "      <td>0.100000</td>\n",
       "      <td>0.000000</td>\n",
       "      <td>200.000000</td>\n",
       "    </tr>\n",
       "    <tr>\n",
       "      <th>25%</th>\n",
       "      <td>1.319538e+09</td>\n",
       "      <td>2.240000</td>\n",
       "      <td>9999.000000</td>\n",
       "      <td>-0.450000</td>\n",
       "      <td>0.690000</td>\n",
       "      <td>0.840000</td>\n",
       "      <td>4.700000</td>\n",
       "      <td>1012.000000</td>\n",
       "      <td>NaN</td>\n",
       "      <td>NaN</td>\n",
       "      <td>62.000000</td>\n",
       "      <td>1.030000</td>\n",
       "      <td>60.000000</td>\n",
       "      <td>3.000000</td>\n",
       "      <td>0.180000</td>\n",
       "      <td>0.200000</td>\n",
       "      <td>0.160000</td>\n",
       "      <td>0.200000</td>\n",
       "      <td>0.000000</td>\n",
       "      <td>701.000000</td>\n",
       "    </tr>\n",
       "    <tr>\n",
       "      <th>50%</th>\n",
       "      <td>1.440347e+09</td>\n",
       "      <td>9.700000</td>\n",
       "      <td>10000.000000</td>\n",
       "      <td>5.150000</td>\n",
       "      <td>8.800000</td>\n",
       "      <td>8.450000</td>\n",
       "      <td>12.000000</td>\n",
       "      <td>1016.000000</td>\n",
       "      <td>NaN</td>\n",
       "      <td>NaN</td>\n",
       "      <td>81.000000</td>\n",
       "      <td>2.000000</td>\n",
       "      <td>130.000000</td>\n",
       "      <td>5.000000</td>\n",
       "      <td>0.330000</td>\n",
       "      <td>0.800000</td>\n",
       "      <td>0.260000</td>\n",
       "      <td>0.500000</td>\n",
       "      <td>20.000000</td>\n",
       "      <td>800.000000</td>\n",
       "    </tr>\n",
       "    <tr>\n",
       "      <th>75%</th>\n",
       "      <td>1.561060e+09</td>\n",
       "      <td>16.910000</td>\n",
       "      <td>10000.000000</td>\n",
       "      <td>11.350000</td>\n",
       "      <td>16.700000</td>\n",
       "      <td>15.750000</td>\n",
       "      <td>19.400000</td>\n",
       "      <td>1021.000000</td>\n",
       "      <td>NaN</td>\n",
       "      <td>NaN</td>\n",
       "      <td>93.000000</td>\n",
       "      <td>3.100000</td>\n",
       "      <td>270.000000</td>\n",
       "      <td>7.000000</td>\n",
       "      <td>0.700000</td>\n",
       "      <td>2.000000</td>\n",
       "      <td>0.450000</td>\n",
       "      <td>1.000000</td>\n",
       "      <td>75.000000</td>\n",
       "      <td>801.000000</td>\n",
       "    </tr>\n",
       "    <tr>\n",
       "      <th>max</th>\n",
       "      <td>1.682982e+09</td>\n",
       "      <td>37.610000</td>\n",
       "      <td>10000.000000</td>\n",
       "      <td>25.190000</td>\n",
       "      <td>37.740000</td>\n",
       "      <td>37.000000</td>\n",
       "      <td>42.700000</td>\n",
       "      <td>1044.000000</td>\n",
       "      <td>NaN</td>\n",
       "      <td>NaN</td>\n",
       "      <td>100.000000</td>\n",
       "      <td>9999.000000</td>\n",
       "      <td>360.000000</td>\n",
       "      <td>24.200000</td>\n",
       "      <td>18.000000</td>\n",
       "      <td>27.000000</td>\n",
       "      <td>2.280000</td>\n",
       "      <td>9.000000</td>\n",
       "      <td>100.000000</td>\n",
       "      <td>804.000000</td>\n",
       "    </tr>\n",
       "  </tbody>\n",
       "</table>\n",
       "</div>"
      ]
     },
     "execution_count": 42,
     "metadata": {},
     "output_type": "execute_result"
    }
   ],
   "execution_count": 42
  },
  {
   "metadata": {
    "ExecuteTime": {
     "end_time": "2025-06-16T13:21:21.903550Z",
     "start_time": "2025-06-16T13:21:21.877469Z"
    }
   },
   "cell_type": "code",
   "source": "",
   "id": "70bc92dd79dde6cd",
   "outputs": [
    {
     "data": {
      "text/plain": [
       "'2023-05-01 23:00:00 +0000 UTC'"
      ]
     },
     "execution_count": 46,
     "metadata": {},
     "output_type": "execute_result"
    }
   ],
   "execution_count": 46
  }
 ],
 "metadata": {
  "kernelspec": {
   "display_name": "Python 3",
   "language": "python",
   "name": "python3"
  },
  "language_info": {
   "codemirror_mode": {
    "name": "ipython",
    "version": 2
   },
   "file_extension": ".py",
   "mimetype": "text/x-python",
   "name": "python",
   "nbconvert_exporter": "python",
   "pygments_lexer": "ipython2",
   "version": "2.7.6"
  }
 },
 "nbformat": 4,
 "nbformat_minor": 5
}
